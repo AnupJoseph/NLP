{
  "nbformat": 4,
  "nbformat_minor": 0,
  "metadata": {
    "colab": {
      "name": "NLP production recepies.ipynb",
      "provenance": []
    },
    "kernelspec": {
      "name": "python3",
      "display_name": "Python 3"
    }
  },
  "cells": [
    {
      "cell_type": "markdown",
      "metadata": {
        "id": "9f3oqpw6vZer"
      },
      "source": [
        "Library installs\n"
      ]
    },
    {
      "cell_type": "code",
      "metadata": {
        "id": "5guD4sMtvZJ_"
      },
      "source": [
        "!pip install textacy"
      ],
      "execution_count": null,
      "outputs": []
    },
    {
      "cell_type": "markdown",
      "metadata": {
        "id": "4VUJn78muGa1"
      },
      "source": [
        "Note: The following “factoids” may be biased. That is why we refer to them as “factoids.”\n",
        "\n",
        "Also quite a bit of this code relies on using packaged functions from 3rd party libraries. Author being a certified crook does not really understands whats the big deal with writing your own code"
      ]
    },
    {
      "cell_type": "markdown",
      "metadata": {
        "id": "buaJBl1vrY0M"
      },
      "source": [
        "NLP factoids\n",
        "1. NLTK \n",
        "  * NLTK is a string processing library. All the tools take strings as input and return strings or lists of strings as output \n",
        "  * NLTK is a good choice if you want to explore different NLP with a corpus whose length is less than a million words.\n",
        "  * NLTK is a bad choice if you want to go into production with your NLP application\n",
        "\n",
        "2. Regex\n",
        "  * The use of regex is pervasive throughout our text-preprocessing code. Regex is a fast string processor. \n",
        "\n",
        "3. spaCy\n",
        "  * spaCy is a moderate choice if you want to research different NLP models with a corpus whose length is greater than a million words.\n",
        "  * If you use a selection from spaCy, Hugging Face, fast.ai, and GPT-3, then you are performing SOTA (state-of-the-art) research of different NLP models (my opinion at the time of writing this blog).\n",
        "spaCy is a good choice if you want to go into production with your NLP application.\n",
        "  * spaCy is an NLP library implemented both in Python and Cython. Because of the Cython, parts of spaCy are faster than if implemented in Python;\n",
        "  * spacy is the fastest package, we know of, for NLP operations;\n",
        "  * spacy is available for operating systems MS Windows, macOS, and Ubuntu;\n",
        "  * spaCy runs natively on Nvidia GPUs;\n",
        "explosion/spaCy has 16,900 stars on Github (7/22/2020);\n",
        "  * spaCy has 138 public repository implementations on GitHub;\n",
        "  * spaCy comes with pre-trained statistical models and word vectors;\n",
        "  * spaCy transforms text into document objects, vocabulary objects, word- token objects, and other useful objects resulting from parsing the text ;\n",
        "  * Doc class has several useful attributes and methods. Significantly, you can create new operations on these objects as well as extend a class with new attributes (adding to the spaCy pipeline);\n",
        "  * spaCy features tokenization for 50+ languages;\n"
      ]
    },
    {
      "cell_type": "code",
      "metadata": {
        "id": "TGsl6wT0yV6L"
      },
      "source": [
        "from typing import Pattern\n",
        "import re"
      ],
      "execution_count": 9,
      "outputs": []
    },
    {
      "cell_type": "markdown",
      "metadata": {
        "id": "wyP-4eKsshAZ"
      },
      "source": [
        "For practice purposes and timing we are going to create an non-sensical text string of absolutely no use"
      ]
    },
    {
      "cell_type": "code",
      "metadata": {
        "id": "x9JbUM-erEte"
      },
      "source": [
        "MULTIPLIER = int(3.8e3)\n",
        "text_l = 300"
      ],
      "execution_count": 2,
      "outputs": []
    },
    {
      "cell_type": "code",
      "metadata": {
        "id": "Az1Mk9QKs_qT",
        "outputId": "43e54848-ee6c-47cb-f068-bf09fed5d546",
        "colab": {
          "base_uri": "https://localhost:8080/",
          "height": 122
        }
      },
      "source": [
        "%%time\n",
        "long_s = ':( 😻 😈   #google +1 608-444-0000 08-444-0004 608-444-00003 ext. 508 '\n",
        "long_s += '  888 eihtg DoD Fee https://medium.com/ #hash ##   Document Title</title> '\n",
        "long_s += ':( cat- \\n nip'\n",
        "long_s += ' immed- \\n natedly <html><h2>2nd levelheading</h2></html>  . , '\n",
        "long_s +=  '# bhc@gmail.com  f@z.yx  can\\'t Be  a ckunk. $4 $123,456 won\\'t seven '\n",
        "long_s +=' $Shine $$beighty?$ '\n",
        "\n",
        "long_s *= MULTIPLIER\n",
        "print('size: {:g} {}'.format(len(long_s),long_s[:text_l]))"
      ],
      "execution_count": 3,
      "outputs": [
        {
          "output_type": "stream",
          "text": [
            "size: 1.159e+06 :( 😻 😈   #google +1 608-444-0000 08-444-0004 608-444-00003 ext. 508   888 eihtg DoD Fee https://medium.com/ #hash ##   Document Title</title> :( cat- \n",
            " nip immed- \n",
            " natedly <html><h2>2nd levelheading</h2></html>  . , # bhc@gmail.com  f@z.yx  can't Be  a ckunk. $4 $123,456 won't seven  $Shine $$beigh\n",
            "CPU times: user 922 µs, sys: 2.03 ms, total: 2.95 ms\n",
            "Wall time: 2.84 ms\n"
          ],
          "name": "stdout"
        }
      ]
    },
    {
      "cell_type": "markdown",
      "metadata": {
        "id": "ZE6LRJsuvM9Q"
      },
      "source": [
        "1. NLP text preprocessing: Replace Twitter Hash Tags"
      ]
    },
    {
      "cell_type": "code",
      "metadata": {
        "id": "dDzzimyoughd",
        "outputId": "a772ff80-9278-498c-ba98-90fd7fbbebb1",
        "colab": {
          "base_uri": "https://localhost:8080/",
          "height": 122
        }
      },
      "source": [
        "from textacy.preprocessing.replace import replace_hashtags\n",
        "%time text = replace_hashtags(long_s,replace_with='_HASH_')\n",
        "print('size: {:g} {}'.format(len(text),text[:text_l]))"
      ],
      "execution_count": 6,
      "outputs": [
        {
          "output_type": "stream",
          "text": [
            "CPU times: user 91 ms, sys: 5.79 ms, total: 96.8 ms\n",
            "Wall time: 98.4 ms\n",
            "size: 1.159e+06 :( 😻 😈   _HASH_ +1 608-444-0000 08-444-0004 608-444-00003 ext. 508   888 eihtg DoD Fee https://medium.com/ _HASH_ ##   Document Title</title> :( cat- \n",
            " nip immed- \n",
            " natedly <html><h2>2nd levelheading</h2></html>  . , # bhc@gmail.com  f@z.yx  can't Be  a ckunk. $4 $123,456 won't seven  $Shine $$beigh\n"
          ],
          "name": "stdout"
        }
      ]
    },
    {
      "cell_type": "markdown",
      "metadata": {
        "id": "7e0PDrZCw7IN"
      },
      "source": [
        "3. NLP text preprocessing: Replace Phone Numbers\n",
        "\n",
        "Personal information is protected by privacy laws and hence cannot be shown directly"
      ]
    },
    {
      "cell_type": "code",
      "metadata": {
        "id": "_o34j10cwHoa",
        "outputId": "0e64fcd0-15b5-49aa-d992-facd70903d03",
        "colab": {
          "base_uri": "https://localhost:8080/",
          "height": 102
        }
      },
      "source": [
        "from textacy.preprocessing.replace import replace_phone_numbers\n",
        "%time text = replace_phone_numbers(long_s,replace_with='_PHONE_')\n",
        "print('size: {:g} {}'.format(len(text),text[:text_l]))"
      ],
      "execution_count": 7,
      "outputs": [
        {
          "output_type": "stream",
          "text": [
            "CPU times: user 175 ms, sys: 641 µs, total: 176 ms\n",
            "Wall time: 175 ms\n",
            "size: 1.1248e+06 :( 😻 😈   #google _PHONE_ 08-_PHONE_ 608-444-00003 ext. 508   888 eihtg DoD Fee https://medium.com/ #hash ##   Document Title</title> :( cat- \n",
            " nip immed- \n",
            " natedly <html><h2>2nd levelheading</h2></html>  . , # bhc@gmail.com  f@z.yx  can't Be  a ckunk. $4 $123,456 won't seven  $Shine $$beighty?$ :( 😻\n"
          ],
          "name": "stdout"
        }
      ]
    },
    {
      "cell_type": "markdown",
      "metadata": {
        "id": "tX4Gq-p8yAE6"
      },
      "source": [
        "Notice phone number 08-444-0004 and 608-444-00003 ext. 508 were not transformed."
      ]
    },
    {
      "cell_type": "markdown",
      "metadata": {
        "id": "2osgFuWiyIpz"
      },
      "source": [
        "4. NLP text preprocessing: Replace Phone Numbers - better\n"
      ]
    },
    {
      "cell_type": "code",
      "metadata": {
        "id": "rZ6G1ijKyBC3",
        "outputId": "da8e5704-6a61-4984-f4b5-4c04d622bf8f",
        "colab": {
          "base_uri": "https://localhost:8080/",
          "height": 122
        }
      },
      "source": [
        "RE_PHONE_NUMBER = re.compile(\n",
        "    # core components of a phone number\n",
        "    r\"(?:^|(?<=[^\\w)]))(\\+?1[ .-]?)?(\\(?\\d{2,3}\\)?[ .-]?)?(\\d{2,3}[ .-]?\\d{2,5})\"\n",
        "    # extensions, etc.\n",
        "    r\"(\\s?(?:ext\\.?|[#x-])\\s?\\d{2,6})?(?:$|(?=\\W))\",\n",
        "    flags=re.UNICODE | re.IGNORECASE)\n",
        "%time text = RE_PHONE_NUMBER.sub(\"_PHONE_\",long_s)\n",
        "print('size: {:g} {}'.format(len(text),text[:text_l]))"
      ],
      "execution_count": 21,
      "outputs": [
        {
          "output_type": "stream",
          "text": [
            "CPU times: user 155 ms, sys: 3.79 ms, total: 159 ms\n",
            "Wall time: 159 ms\n",
            "size: 1.0564e+06 :( 😻 😈   #google _PHONE_ _PHONE_ _PHONE_   888 eihtg DoD Fee https://medium.com/ #hash ##   Document Title</title> :( cat- \n",
            " nip immed- \n",
            " natedly <html><h2>2nd levelheading</h2></html>  . , # bhc@gmail.com  f@z.yx  can't Be  a ckunk. $4 $123,456 won't seven  $Shine $$beighty?$ :( 😻 😈   #google _PHON\n"
          ],
          "name": "stdout"
        }
      ]
    },
    {
      "cell_type": "markdown",
      "metadata": {
        "id": "NuII_kOD0FRy"
      },
      "source": [
        "5. NLP text preprocessing: Remove Phone Numbers"
      ]
    },
    {
      "cell_type": "code",
      "metadata": {
        "id": "ALEaKujEzyV7",
        "outputId": "b4ec1789-7cb2-4feb-e745-f77bdd32897c",
        "colab": {
          "base_uri": "https://localhost:8080/",
          "height": 122
        }
      },
      "source": [
        "%time text = RE_PHONE_NUMBER.sub(\"\",long_s)\n",
        "print('size: {:g} {}'.format(len(text),text[:text_l]))"
      ],
      "execution_count": 23,
      "outputs": [
        {
          "output_type": "stream",
          "text": [
            "CPU times: user 159 ms, sys: 0 ns, total: 159 ms\n",
            "Wall time: 160 ms\n",
            "size: 976600 :( 😻 😈   #google      888 eihtg DoD Fee https://medium.com/ #hash ##   Document Title</title> :( cat- \n",
            " nip immed- \n",
            " natedly <html><h2>2nd levelheading</h2></html>  . , # bhc@gmail.com  f@z.yx  can't Be  a ckunk. $4 $123,456 won't seven  $Shine $$beighty?$ :( 😻 😈   #google      888 eihtg DoD Fee htt\n"
          ],
          "name": "stdout"
        }
      ]
    }
  ]
}