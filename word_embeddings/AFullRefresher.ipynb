{
  "nbformat": 4,
  "nbformat_minor": 0,
  "metadata": {
    "colab": {
      "name": "AFullRefresher.ipynb",
      "provenance": []
    },
    "kernelspec": {
      "name": "python3",
      "display_name": "Python 3"
    }
  },
  "cells": [
    {
      "cell_type": "markdown",
      "metadata": {
        "id": "4xJJqluDNvjM",
        "colab_type": "text"
      },
      "source": [
        "This notebok is intended as a one-stop reference to embeddings for myself.It does not need to have any specific relevance beyond that.\n",
        "\n",
        "Word embedding is the collective name for a set of language modeling and feature learning techniques in natural language processing (NLP) where words or phrases from the vocabulary are mapped to vectors of real numbers(kind of unintuitive by the way)\n"
      ]
    },
    {
      "cell_type": "code",
      "metadata": {
        "id": "ZiVd037NOlq2",
        "colab_type": "code",
        "colab": {
          "base_uri": "https://localhost:8080/"
        },
        "outputId": "2bed0672-82c6-4c8d-932f-e9c937f3e6aa"
      },
      "source": [
        "from sklearn.feature_extraction.text import CountVectorizer,TfidfVectorizer\n",
        "import seaborn as sns\n",
        "import gensim\n",
        "import spacy\n",
        "from scipy.spatial import distance\n",
        "import numpy as np"
      ],
      "execution_count": null,
      "outputs": [
        {
          "output_type": "stream",
          "text": [
            "/usr/local/lib/python3.6/dist-packages/statsmodels/tools/_testing.py:19: FutureWarning: pandas.util.testing is deprecated. Use the functions in the public API at pandas.testing instead.\n",
            "  import pandas.util.testing as tm\n"
          ],
          "name": "stderr"
        }
      ]
    },
    {
      "cell_type": "markdown",
      "metadata": {
        "id": "WQqoom1EO2YS",
        "colab_type": "text"
      },
      "source": [
        "One Hot Vectorization or (Count vectorization)\n",
        "The most basic form of embedding where we simply count the frequency of word in the document"
      ]
    },
    {
      "cell_type": "code",
      "metadata": {
        "id": "Ule9qaz8PNGg",
        "colab_type": "code",
        "colab": {
          "base_uri": "https://localhost:8080/",
          "height": 301
        },
        "outputId": "b57c3707-ce12-4837-a17c-78689a1e760e"
      },
      "source": [
        "vectorizer = CountVectorizer()\n",
        "corpus = [\n",
        "          'Text of the very first new sentence with the first words in sentence.',\n",
        "          'Text of the second sentence.',\n",
        "          'Number three with lot of words words words.',\n",
        "          'Short text, less words.',\n",
        "]\n",
        "\n",
        "term_frequencies = vectorizer.fit_transform(corpus)\n",
        "vocab = vectorizer.get_feature_names()\n",
        "\n",
        "# Convert the created frquency sparse matrix to numpy matrix\n",
        "array = term_frequencies.toarray()\n",
        "sns.heatmap(array,cbar=False,annot=True,xticklabels=vocab);"
      ],
      "execution_count": null,
      "outputs": [
        {
          "output_type": "display_data",
          "data": {
            "image/png": "[encoded data removed]",
            "text/plain": [
              "<Figure size 432x288 with 1 Axes>"
            ]
          },
          "metadata": {
            "tags": [],
            "needs_background": "light"
          }
        }
      ]
    },
    {
      "cell_type": "markdown",
      "metadata": {
        "id": "Q7ybzPmPSoAO",
        "colab_type": "text"
      },
      "source": [
        "TF-IDF Vectorizer\n",
        "\n",
        "In the above Countvectorizer approach there is lot of problems with the most obvious problem being that the words like \"a\",\"an\",\"the\" will appear very frequently without holding a lot of information\n",
        "\n",
        "This contingency is handles using TF-IDF(term frequency — inverse document frequency).\n",
        "![alt text](https://miro.medium.com/max/655/1*tMTbOwNzKx06chETJkZ6ww.png)\n",
        "Where TF is calculated by dividing number of times the word occurs in the document by the total number of words in the document\n",
        "![alt text](https://miro.medium.com/max/349/1*y2mxpp2Vl6W7_ZmdUISkXA.png)\n",
        "\n",
        "And idf is\n",
        "\n",
        "![alt text](https://miro.medium.com/max/223/1*6PP8jjIoi7Oe3O1Wo4a2vQ.png)\n"
      ]
    },
    {
      "cell_type": "code",
      "metadata": {
        "id": "CnDXkwF6SICL",
        "colab_type": "code",
        "colab": {
          "base_uri": "https://localhost:8080/",
          "height": 265
        },
        "outputId": "69328b97-c14f-4ead-af11-418ef9714208"
      },
      "source": [
        "corpus = [\n",
        "          'Time flies like an arrow.',\n",
        "          'Fruit flies like a banana.'\n",
        "]\n",
        "vocab = ['an', 'arrow', 'banana', 'flies', 'fruit', 'like', 'time']\n",
        "\n",
        "# Use such an in-line methodology whenever possible. Not particularly good but saves memory anyday  \n",
        "tfidf_vectorizer = TfidfVectorizer()\n",
        "tfidf = tfidf_vectorizer.fit_transform(corpus).toarray()\n",
        "\n",
        "sns.heatmap(tfidf,cbar=False,annot=True,xticklabels=vocab);"
      ],
      "execution_count": null,
      "outputs": [
        {
          "output_type": "display_data",
          "data": {
            "image/png": "[encoded data removed]",
            "text/plain": [
              "<Figure size 432x288 with 1 Axes>"
            ]
          },
          "metadata": {
            "tags": [],
            "needs_background": "light"
          }
        }
      ]
    },
    {
      "cell_type": "markdown",
      "metadata": {
        "id": "tMXa7qYfmMBn",
        "colab_type": "text"
      },
      "source": [
        "The most commonly used models for word embeddings are word2vec and GloVe which are both unsupervised approaches based on the distributional hypothesis (words that occur in the same contexts tend to have similar meanings)\n",
        "\n",
        "Word2Vec word embeddings are vector representations of words, that are typically learnt by an unsupervised model when fed with large amounts of text as input. Word2Vec word embeddings are learnt in a such way, that distance between vectors for words with close meanings (“king” and “queen” for example) are closer than distance for words with complety different meanings (“king” and “carpet” for example).\n",
        "\n"
      ]
    },
    {
      "cell_type": "code",
      "metadata": {
        "id": "JDnYJL9AWCXk",
        "colab_type": "code",
        "colab": {
          "base_uri": "https://localhost:8080/",
          "height": 204
        },
        "outputId": "721521cd-e66d-43f1-83b4-a0c128e109a0"
      },
      "source": [
        "# Preparatory steps for loading gensim model\n",
        "!wget https://s3.amazonaws.com/dl4j-distribution/GoogleNews-vectors-negative300.bin.gz\n",
        "!gunzip GoogleNews-vectors-negative300.bin"
      ],
      "execution_count": null,
      "outputs": [
        {
          "output_type": "stream",
          "text": [
            "--2020-08-12 12:16:51--  https://s3.amazonaws.com/dl4j-distribution/GoogleNews-vectors-negative300.bin.gz\n",
            "Resolving s3.amazonaws.com (s3.amazonaws.com)... 54.231.98.203\n",
            "Connecting to s3.amazonaws.com (s3.amazonaws.com)|54.231.98.203|:443... connected.\n",
            "HTTP request sent, awaiting response... 200 OK\n",
            "Length: 1647046227 (1.5G) [application/x-gzip]\n",
            "Saving to: ‘GoogleNews-vectors-negative300.bin.gz’\n",
            "\n",
            "GoogleNews-vectors- 100%[===================>]   1.53G  35.0MB/s    in 46s     \n",
            "\n",
            "2020-08-12 12:17:37 (34.1 MB/s) - ‘GoogleNews-vectors-negative300.bin.gz’ saved [1647046227/1647046227]\n",
            "\n"
          ],
          "name": "stdout"
        }
      ]
    },
    {
      "cell_type": "code",
      "metadata": {
        "id": "JmJqIoNwmg92",
        "colab_type": "code",
        "colab": {}
      },
      "source": [
        "model = gensim.models.KeyedVectors.load_word2vec_format('GoogleNews-vectors-negative300.bin',binary=True)"
      ],
      "execution_count": null,
      "outputs": []
    },
    {
      "cell_type": "code",
      "metadata": {
        "id": "uSnu7oHCnSKq",
        "colab_type": "code",
        "colab": {
          "base_uri": "https://localhost:8080/",
          "height": 105
        },
        "outputId": "0ff7439f-5844-4ec5-87a4-ffdd93634d2f"
      },
      "source": [
        "print(model.most_similar(positive=['woman','king'],negative=['man']))\n",
        "print(model.similarity('woman','man'))"
      ],
      "execution_count": null,
      "outputs": [
        {
          "output_type": "stream",
          "text": [
            "/usr/local/lib/python3.6/dist-packages/gensim/matutils.py:737: FutureWarning: Conversion of the second argument of issubdtype from `int` to `np.signedinteger` is deprecated. In future, it will be treated as `np.int64 == np.dtype(int).type`.\n",
            "  if np.issubdtype(vec.dtype, np.int):\n"
          ],
          "name": "stderr"
        },
        {
          "output_type": "stream",
          "text": [
            "[('queen', 0.7118192911148071), ('monarch', 0.6189674139022827), ('princess', 0.5902431011199951), ('crown_prince', 0.5499460697174072), ('prince', 0.5377321243286133), ('kings', 0.5236844420433044), ('Queen_Consort', 0.5235945582389832), ('queens', 0.518113374710083), ('sultan', 0.5098593235015869), ('monarchy', 0.5087411999702454)]\n",
            "0.76640123\n"
          ],
          "name": "stdout"
        }
      ]
    },
    {
      "cell_type": "code",
      "metadata": {
        "id": "a87Q5pXTnoKo",
        "colab_type": "code",
        "colab": {}
      },
      "source": [
        "del model"
      ],
      "execution_count": null,
      "outputs": []
    },
    {
      "cell_type": "markdown",
      "metadata": {
        "id": "IEHb9MdPn5mw",
        "colab_type": "text"
      },
      "source": [
        "It is based on matrix factorization techniques on the word-context matrix. It first constructs a large matrix of (words x context) co-occurrence information, i.e. for each “word” (the rows), you count how frequently we see this word in some “context” (the columns) in a large corpus. \n",
        "\n",
        "Then this matrix is factorized to a lower-dimensional (word x features) matrix, where each row now stores a vector representation for each word. In general, this is done by minimizing a “reconstruction loss”. This loss tries to find the lower-dimensional representations which can explain most of the variance in the high-dimensional data."
      ]
    },
    {
      "cell_type": "code",
      "metadata": {
        "id": "P63sHqDdns-B",
        "colab_type": "code",
        "colab": {
          "base_uri": "https://localhost:8080/",
          "height": 581
        },
        "outputId": "7ac77408-23ff-49bb-c54c-3766b822f3e2"
      },
      "source": [
        "# Glove preparatory steps\n",
        "!python -m spacy download en_core_web_lg"
      ],
      "execution_count": null,
      "outputs": [
        {
          "output_type": "stream",
          "text": [
            "Collecting en_core_web_lg==2.2.5\n",
            "\u001b[?25l  Downloading https://github.com/explosion/spacy-models/releases/download/en_core_web_lg-2.2.5/en_core_web_lg-2.2.5.tar.gz (827.9MB)\n",
            "\u001b[K     |████████████████████████████████| 827.9MB 1.8MB/s \n",
            "\u001b[?25hRequirement already satisfied: spacy>=2.2.2 in /usr/local/lib/python3.6/dist-packages (from en_core_web_lg==2.2.5) (2.2.4)\n",
            "Requirement already satisfied: catalogue<1.1.0,>=0.0.7 in /usr/local/lib/python3.6/dist-packages (from spacy>=2.2.2->en_core_web_lg==2.2.5) (1.0.0)\n",
            "Requirement already satisfied: tqdm<5.0.0,>=4.38.0 in /usr/local/lib/python3.6/dist-packages (from spacy>=2.2.2->en_core_web_lg==2.2.5) (4.41.1)\n",
            "Requirement already satisfied: requests<3.0.0,>=2.13.0 in /usr/local/lib/python3.6/dist-packages (from spacy>=2.2.2->en_core_web_lg==2.2.5) (2.23.0)\n",
            "Requirement already satisfied: cymem<2.1.0,>=2.0.2 in /usr/local/lib/python3.6/dist-packages (from spacy>=2.2.2->en_core_web_lg==2.2.5) (2.0.3)\n",
            "Requirement already satisfied: thinc==7.4.0 in /usr/local/lib/python3.6/dist-packages (from spacy>=2.2.2->en_core_web_lg==2.2.5) (7.4.0)\n",
            "Requirement already satisfied: numpy>=1.15.0 in /usr/local/lib/python3.6/dist-packages (from spacy>=2.2.2->en_core_web_lg==2.2.5) (1.18.5)\n",
            "Requirement already satisfied: blis<0.5.0,>=0.4.0 in /usr/local/lib/python3.6/dist-packages (from spacy>=2.2.2->en_core_web_lg==2.2.5) (0.4.1)\n",
            "Requirement already satisfied: murmurhash<1.1.0,>=0.28.0 in /usr/local/lib/python3.6/dist-packages (from spacy>=2.2.2->en_core_web_lg==2.2.5) (1.0.2)\n",
            "Requirement already satisfied: wasabi<1.1.0,>=0.4.0 in /usr/local/lib/python3.6/dist-packages (from spacy>=2.2.2->en_core_web_lg==2.2.5) (0.7.1)\n",
            "Requirement already satisfied: srsly<1.1.0,>=1.0.2 in /usr/local/lib/python3.6/dist-packages (from spacy>=2.2.2->en_core_web_lg==2.2.5) (1.0.2)\n",
            "Requirement already satisfied: preshed<3.1.0,>=3.0.2 in /usr/local/lib/python3.6/dist-packages (from spacy>=2.2.2->en_core_web_lg==2.2.5) (3.0.2)\n",
            "Requirement already satisfied: plac<1.2.0,>=0.9.6 in /usr/local/lib/python3.6/dist-packages (from spacy>=2.2.2->en_core_web_lg==2.2.5) (1.1.3)\n",
            "Requirement already satisfied: setuptools in /usr/local/lib/python3.6/dist-packages (from spacy>=2.2.2->en_core_web_lg==2.2.5) (49.2.0)\n",
            "Requirement already satisfied: importlib-metadata>=0.20; python_version < \"3.8\" in /usr/local/lib/python3.6/dist-packages (from catalogue<1.1.0,>=0.0.7->spacy>=2.2.2->en_core_web_lg==2.2.5) (1.7.0)\n",
            "Requirement already satisfied: chardet<4,>=3.0.2 in /usr/local/lib/python3.6/dist-packages (from requests<3.0.0,>=2.13.0->spacy>=2.2.2->en_core_web_lg==2.2.5) (3.0.4)\n",
            "Requirement already satisfied: idna<3,>=2.5 in /usr/local/lib/python3.6/dist-packages (from requests<3.0.0,>=2.13.0->spacy>=2.2.2->en_core_web_lg==2.2.5) (2.10)\n",
            "Requirement already satisfied: urllib3!=1.25.0,!=1.25.1,<1.26,>=1.21.1 in /usr/local/lib/python3.6/dist-packages (from requests<3.0.0,>=2.13.0->spacy>=2.2.2->en_core_web_lg==2.2.5) (1.24.3)\n",
            "Requirement already satisfied: certifi>=2017.4.17 in /usr/local/lib/python3.6/dist-packages (from requests<3.0.0,>=2.13.0->spacy>=2.2.2->en_core_web_lg==2.2.5) (2020.6.20)\n",
            "Requirement already satisfied: zipp>=0.5 in /usr/local/lib/python3.6/dist-packages (from importlib-metadata>=0.20; python_version < \"3.8\"->catalogue<1.1.0,>=0.0.7->spacy>=2.2.2->en_core_web_lg==2.2.5) (3.1.0)\n",
            "Building wheels for collected packages: en-core-web-lg\n",
            "  Building wheel for en-core-web-lg (setup.py) ... \u001b[?25l\u001b[?25hdone\n",
            "  Created wheel for en-core-web-lg: filename=en_core_web_lg-2.2.5-cp36-none-any.whl size=829180944 sha256=5bf41b6e106ab23a40326aefda938632b7afbf383a9b0738fc989bcc7fffe1a4\n",
            "  Stored in directory: /tmp/pip-ephem-wheel-cache-pqrllzae/wheels/2a/c1/a6/fc7a877b1efca9bc6a089d6f506f16d3868408f9ff89f8dbfc\n",
            "Successfully built en-core-web-lg\n",
            "Installing collected packages: en-core-web-lg\n",
            "Successfully installed en-core-web-lg-2.2.5\n",
            "\u001b[38;5;2m✔ Download and installation successful\u001b[0m\n",
            "You can now load the model via spacy.load('en_core_web_lg')\n"
          ],
          "name": "stdout"
        }
      ]
    },
    {
      "cell_type": "code",
      "metadata": {
        "id": "SH5pcZ2Hodov",
        "colab_type": "code",
        "colab": {
          "base_uri": "https://localhost:8080/",
          "height": 51
        },
        "outputId": "c56894ec-7ca8-4000-819f-d4626f421f1c"
      },
      "source": [
        "import en_core_web_lg\n",
        "nlp = en_core_web_lg.load()\n",
        "# process a sentence using the model\n",
        "doc = nlp(\"man king stands on the carpet and sees woman queen\")\n",
        "print(doc[1].similarity(doc[9]))\n",
        "print(doc[1].similarity(doc[5]))"
      ],
      "execution_count": null,
      "outputs": [
        {
          "output_type": "stream",
          "text": [
            "0.72526103\n",
            "0.20431946\n"
          ],
          "name": "stdout"
        }
      ]
    },
    {
      "cell_type": "code",
      "metadata": {
        "id": "6EdetuwhpVoR",
        "colab_type": "code",
        "colab": {
          "base_uri": "https://localhost:8080/",
          "height": 34
        },
        "outputId": "9212fc8f-e633-4a46-b68e-b5f9d2439112"
      },
      "source": [
        "# Lets verify the queen = king - man + woman idea\n",
        "v = doc[1].vector - (doc[0].vector*2) + (doc[-2].vector*2)\n",
        "\n",
        "vectors = [token.vector for token in doc]\n",
        "vectors = np.array(vectors)\n",
        "\n",
        "closest_index = distance.cdist(np.expand_dims(v,axis=0),vectors,metric='cosine').argmin()\n",
        "output_word = doc[closest_index].text\n",
        "print(output_word)"
      ],
      "execution_count": null,
      "outputs": [
        {
          "output_type": "stream",
          "text": [
            "queen\n"
          ],
          "name": "stdout"
        }
      ]
    },
    {
      "cell_type": "markdown",
      "metadata": {
        "id": "bJW6ew3-r_K7",
        "colab_type": "text"
      },
      "source": [
        "FastText is an extension of word2vec.\n",
        "\n",
        "The main improvement of FastText over the original word2vec vectors is the inclusion of character n-grams, which allows computing word representations for words that did not appear in the training data "
      ]
    },
    {
      "cell_type": "code",
      "metadata": {
        "id": "RqB0nwTGrZum",
        "colab_type": "code",
        "colab": {}
      },
      "source": [
        "# FastText preparation.This is built on Cython and hence rather fast\n",
        "!pip install Cython --install-option=\"--no-cython-compile\"\n",
        "!pip install fasttext\n",
        "\n",
        "# Download pre-trained language vectors\n",
        "import fasttext\n",
        "import fasttext.util\n",
        "fasttext.util.download_model('en', if_exists='ignore')  # English\n",
        "ft = fasttext.load_model('cc.en.300.bin')"
      ],
      "execution_count": null,
      "outputs": []
    },
    {
      "cell_type": "code",
      "metadata": {
        "id": "z44SUUMcujXX",
        "colab_type": "code",
        "colab": {}
      },
      "source": [
        "ft.get_word_vector('king')\n",
        "ft.get_nearest_neighbors('king')"
      ],
      "execution_count": null,
      "outputs": []
    },
    {
      "cell_type": "code",
      "metadata": {
        "id": "yqepRHAvE2-J",
        "colab_type": "code",
        "colab": {
          "base_uri": "https://localhost:8080/",
          "height": 34
        },
        "outputId": "167a51d4-f92d-4b86-dac4-a4908e5218d3"
      },
      "source": [
        "%tensorflow_version 1.x\n",
        "import tensorflow_hub as hub\n",
        "import tensorflow as tf\n",
        "\n",
        "elmo = hub.Module(\"https://tfhub.dev/google/elmo/3\",trainable=True)\n",
        "\n",
        "sentences =  ['king arthur, also called arthur or aathur pendragon, legendary british king who appears in a cycle of \\\n",
        "medieval romances (known as the matter of britain) as the sovereign of a knightly fellowship of the round table.', \n",
        "'it is not certain how these legends originated or whether the figure of arthur was based on a historical person.', \n",
        "'the legend possibly originated either in wales or in those parts of northern britain inhabited by brythonic-speaking celts.', \n",
        "'for a fuller treatment of the stories about king arthur, see also arthurian legend.']"
      ],
      "execution_count": 1,
      "outputs": [
        {
          "output_type": "stream",
          "text": [
            "TensorFlow 1.x selected.\n"
          ],
          "name": "stdout"
        }
      ]
    },
    {
      "cell_type": "code",
      "metadata": {
        "id": "WdiaIfFUFj_o",
        "colab_type": "code",
        "colab": {}
      },
      "source": [
        "words = []\n",
        "mask = []\n",
        "masked_words = []\n",
        "\n",
        "for line in sentences:\n",
        "  splitted = line.split()\n",
        "  for i in range(36):\n",
        "    try:\n",
        "      words.append(splitted[i])\n",
        "    except:\n",
        "      words.append('_')\n",
        "\n",
        "for word in words:\n",
        "  if word == '_':\n",
        "    mask.append(False)\n",
        "  else:\n",
        "    mask.append(True)\n",
        "    masked_words.append(word)"
      ],
      "execution_count": 3,
      "outputs": []
    },
    {
      "cell_type": "code",
      "metadata": {
        "id": "Ra9vB2F0Gqvq",
        "colab_type": "code",
        "colab": {
          "base_uri": "https://localhost:8080/",
          "height": 51
        },
        "outputId": "a3db3db4-3a3c-41be-ba43-da66b1003faf"
      },
      "source": [
        "embeddings = elmo(sentences,signature='default',as_dict=True)['elmo']"
      ],
      "execution_count": 12,
      "outputs": [
        {
          "output_type": "stream",
          "text": [
            "INFO:tensorflow:Saver not created because there are no variables in the graph to restore\n"
          ],
          "name": "stdout"
        },
        {
          "output_type": "stream",
          "text": [
            "INFO:tensorflow:Saver not created because there are no variables in the graph to restore\n"
          ],
          "name": "stderr"
        }
      ]
    },
    {
      "cell_type": "code",
      "metadata": {
        "id": "lLwh8ApLG6ip",
        "colab_type": "code",
        "colab": {
          "base_uri": "https://localhost:8080/",
          "height": 51
        },
        "outputId": "e5f97d22-7abe-47e7-f7a4-c8fd1a5574f5"
      },
      "source": [
        "%%time\n",
        "with tf.Session() as sess:\n",
        "  sess.run(tf.global_variables_initializer())\n",
        "  sess.run(tf.tables_initializer())\n",
        "  x = sess.run(embeddings)\n",
        "embs = x.reshape(-1, 1024)\n",
        "masked_embs = embs[mask]"
      ],
      "execution_count": 13,
      "outputs": [
        {
          "output_type": "stream",
          "text": [
            "CPU times: user 9.16 s, sys: 467 ms, total: 9.62 s\n",
            "Wall time: 5.9 s\n"
          ],
          "name": "stdout"
        }
      ]
    },
    {
      "cell_type": "code",
      "metadata": {
        "id": "MdfTAMm2HDSn",
        "colab_type": "code",
        "colab": {
          "base_uri": "https://localhost:8080/",
          "height": 542
        },
        "outputId": "065568e1-c635-4934-8cd5-902d1de302d8"
      },
      "source": [
        "from sklearn.decomposition import PCA\n",
        "pca = PCA(n_components=10)\n",
        "y = pca.fit_transform(masked_embs)\n",
        "from sklearn.manifold import TSNE\n",
        "y = TSNE(n_components=2).fit_transform(y)\n",
        "import plotly as py\n",
        "import plotly.graph_objs as go\n",
        "data = [\n",
        "    go.Scatter(\n",
        "        x=[i[0] for i in y],\n",
        "        y=[i[1] for i in y],\n",
        "        mode='markers',\n",
        "        text=[i for i in masked_words],\n",
        "    marker=dict(\n",
        "        size=16,\n",
        "        color = [len(i) for i in masked_words], #set color equal to a variable\n",
        "        opacity= 0.8,\n",
        "        colorscale='Viridis',\n",
        "        showscale=False\n",
        "    )\n",
        "    )\n",
        "]\n",
        "layout = go.Layout()\n",
        "layout = dict(\n",
        "              yaxis = dict(zeroline = False),\n",
        "              xaxis = dict(zeroline = False)\n",
        "             )\n",
        "fig = go.Figure(data=data, layout=layout)\n",
        "fig.show()"
      ],
      "execution_count": 14,
      "outputs": [
        {
          "output_type": "display_data",
          "data": {
            "text/html": [
              "<html>\n",
              "<head><meta charset=\"utf-8\" /></head>\n",
              "<body>\n",
              "    <div>\n",
              "            <script src=\"https://cdnjs.cloudflare.com/ajax/libs/mathjax/2.7.5/MathJax.js?config=TeX-AMS-MML_SVG\"></script><script type=\"text/javascript\">if (window.MathJax) {MathJax.Hub.Config({SVG: {font: \"STIX-Web\"}});}</script>\n",
              "                <script type=\"text/javascript\">window.PlotlyConfig = {MathJaxConfig: 'local'};</script>\n",
              "        <script src=\"https://cdn.plot.ly/plotly-latest.min.js\"></script>    \n",
              "            <div id=\"97c90833-c592-4fa6-a5c9-a33aba7eb75f\" class=\"plotly-graph-div\" style=\"height:525px; width:100%;\"></div>\n",
              "            <script type=\"text/javascript\">\n",
              "                \n",
              "                    window.PLOTLYENV=window.PLOTLYENV || {};\n",
              "                    \n",
              "                if (document.getElementById(\"97c90833-c592-4fa6-a5c9-a33aba7eb75f\")) {\n",
              "                    Plotly.newPlot(\n",
              "                        '97c90833-c592-4fa6-a5c9-a33aba7eb75f',\n",
              "                        [{\"marker\": {\"color\": [4, 7, 4, 6, 6, 2, 6, 10, 9, 7, 4, 3, 7, 2, 1, 5, 2, 8, 8, 6, 2, 3, 6, 2, 8, 2, 3, 9, 2, 1, 8, 10, 2, 3, 5, 6, 2, 2, 3, 7, 3, 5, 7, 10, 2, 7, 3, 6, 2, 6, 3, 5, 2, 1, 10, 7, 3, 6, 8, 10, 6, 2, 5, 2, 2, 5, 5, 2, 8, 7, 9, 2, 18, 6, 3, 1, 6, 9, 2, 3, 7, 5, 4, 7, 3, 4, 9, 7], \"colorscale\": [[0.0, \"#440154\"], [0.1111111111111111, \"#482878\"], [0.2222222222222222, \"#3e4989\"], [0.3333333333333333, \"#31688e\"], [0.4444444444444444, \"#26828e\"], [0.5555555555555556, \"#1f9e89\"], [0.6666666666666666, \"#35b779\"], [0.7777777777777778, \"#6ece58\"], [0.8888888888888888, \"#b5de2b\"], [1.0, \"#fde725\"]], \"opacity\": 0.8, \"showscale\": false, \"size\": 16}, \"mode\": \"markers\", \"text\": [\"king\", \"arthur,\", \"also\", \"called\", \"arthur\", \"or\", \"aathur\", \"pendragon,\", \"legendary\", \"british\", \"king\", \"who\", \"appears\", \"in\", \"a\", \"cycle\", \"of\", \"medieval\", \"romances\", \"(known\", \"as\", \"the\", \"matter\", \"of\", \"britain)\", \"as\", \"the\", \"sovereign\", \"of\", \"a\", \"knightly\", \"fellowship\", \"of\", \"the\", \"round\", \"table.\", \"it\", \"is\", \"not\", \"certain\", \"how\", \"these\", \"legends\", \"originated\", \"or\", \"whether\", \"the\", \"figure\", \"of\", \"arthur\", \"was\", \"based\", \"on\", \"a\", \"historical\", \"person.\", \"the\", \"legend\", \"possibly\", \"originated\", \"either\", \"in\", \"wales\", \"or\", \"in\", \"those\", \"parts\", \"of\", \"northern\", \"britain\", \"inhabited\", \"by\", \"brythonic-speaking\", \"celts.\", \"for\", \"a\", \"fuller\", \"treatment\", \"of\", \"the\", \"stories\", \"about\", \"king\", \"arthur,\", \"see\", \"also\", \"arthurian\", \"legend.\"], \"type\": \"scatter\", \"x\": [0.6915082335472107, 0.024952052161097527, 0.29304805397987366, 0.658980667591095, 0.0013981079682707787, 0.5785635709762573, 0.1885123997926712, 0.6745539903640747, 0.541812002658844, 1.0144883394241333, 1.0702852010726929, 1.089827537536621, 1.3841040134429932, 2.949418306350708, -3.8172030448913574, 1.952101230621338, 3.8274266719818115, 0.35908403992652893, 1.440965175628662, 1.9611616134643555, 2.492424249649048, -4.057410717010498, 2.178849697113037, 4.219201564788818, 1.8197176456451416, 2.4122533798217773, -4.237809658050537, 2.434514284133911, 4.896968364715576, -4.850256443023682, 2.582951068878174, 2.5421011447906494, 4.783389568328857, -4.941794395446777, 3.04494047164917, 6.340159893035889, -0.7719243764877319, -0.513303816318512, -0.9052121639251709, -1.051308512687683, -1.6339844465255737, -2.1890318393707275, -2.02994704246521, 2.7285990715026855, 1.3041753768920898, -1.4047702550888062, -2.5266342163085938, -1.3836325407028198, 3.6565816402435303, -0.37257152795791626, 1.8354583978652954, 2.3931291103363037, 3.0370426177978516, -3.3144707679748535, 0.20902685821056366, 6.38815450668335, -2.113039493560791, -1.832810878753662, 1.6302464008331299, 2.7852015495300293, 5.741793155670166, 4.952582836151123, 4.89397668838501, 5.602568626403809, 4.936728000640869, 5.407103538513184, 5.5367960929870605, 5.261146545410156, 5.399547100067139, 4.665805339813232, 6.100131511688232, 4.526152610778809, 4.314288139343262, 6.393890857696533, -0.12439146637916565, -2.634561538696289, -3.3119425773620605, -3.2054026126861572, 0.0743151307106018, -1.2860907316207886, -1.8454636335372925, -0.08115069568157196, 0.454425573348999, -0.6810322999954224, 0.45479917526245117, 0.2600090205669403, -0.8025783896446228, 6.3584089279174805], \"y\": [3.711747884750366, 2.422606945037842, -3.506176471710205, -3.0810492038726807, 1.8021177053451538, -2.2572884559631348, 1.9704233407974243, 2.1084461212158203, 1.2836391925811768, 2.020885705947876, 3.3405556678771973, -3.3066868782043457, -4.044200897216797, -4.397273063659668, -5.3081536293029785, -0.8227468729019165, -5.687321662902832, -0.03745589405298233, -0.5091755390167236, -3.1149494647979736, -4.233981609344482, -5.818102836608887, -1.4539122581481934, -6.158597469329834, 0.09314184635877609, -4.141205787658691, -5.404404163360596, 0.6850451827049255, -6.682189464569092, -5.0650835037231445, 0.7305341958999634, 0.14455729722976685, -6.43560266494751, -5.333078384399414, 0.571236252784729, 2.9612033367156982, -5.382392406463623, -4.785617351531982, -4.570931434631348, -5.454987049102783, -6.498596668243408, -7.166125774383545, -0.7270376682281494, -8.422344207763672, -5.785117149353027, -6.307633399963379, -6.478472709655762, -1.009940266609192, -6.040872097015381, 0.887548565864563, -5.693396091461182, -6.933496475219727, -5.295163154602051, -5.622923851013184, -0.6668176651000977, 2.903646230697632, -6.447346210479736, -0.8199747204780579, -6.24262809753418, -8.376195907592773, -3.909428358078003, -4.005880832672119, -0.927492618560791, -3.394230842590332, -4.095699310302734, -2.1841883659362793, -1.50208580493927, -4.887953758239746, -0.8893314599990845, -0.8027762174606323, -3.8096768856048584, -4.321862697601318, -1.1940335035324097, 2.886446475982666, -6.537970542907715, -4.680324554443359, -3.104752779006958, -2.858711004257202, -7.756802558898926, -7.253817558288574, -2.565600872039795, -7.357400417327881, 3.890462875366211, 2.1708223819732666, -4.552387237548828, -4.338157653808594, 1.5689306259155273, 2.9388225078582764]}],\n",
              "                        {\"template\": {\"data\": {\"bar\": [{\"error_x\": {\"color\": \"#2a3f5f\"}, \"error_y\": {\"color\": \"#2a3f5f\"}, \"marker\": {\"line\": {\"color\": \"#E5ECF6\", \"width\": 0.5}}, \"type\": \"bar\"}], \"barpolar\": [{\"marker\": {\"line\": {\"color\": \"#E5ECF6\", \"width\": 0.5}}, \"type\": \"barpolar\"}], \"carpet\": [{\"aaxis\": {\"endlinecolor\": \"#2a3f5f\", \"gridcolor\": \"white\", \"linecolor\": \"white\", \"minorgridcolor\": \"white\", \"startlinecolor\": \"#2a3f5f\"}, \"baxis\": {\"endlinecolor\": \"#2a3f5f\", \"gridcolor\": \"white\", \"linecolor\": \"white\", \"minorgridcolor\": \"white\", \"startlinecolor\": \"#2a3f5f\"}, \"type\": \"carpet\"}], \"choropleth\": [{\"colorbar\": {\"outlinewidth\": 0, \"ticks\": \"\"}, \"type\": \"choropleth\"}], \"contour\": [{\"colorbar\": {\"outlinewidth\": 0, \"ticks\": \"\"}, \"colorscale\": [[0.0, \"#0d0887\"], [0.1111111111111111, \"#46039f\"], [0.2222222222222222, \"#7201a8\"], [0.3333333333333333, \"#9c179e\"], [0.4444444444444444, \"#bd3786\"], [0.5555555555555556, \"#d8576b\"], [0.6666666666666666, \"#ed7953\"], [0.7777777777777778, \"#fb9f3a\"], [0.8888888888888888, \"#fdca26\"], [1.0, \"#f0f921\"]], \"type\": \"contour\"}], \"contourcarpet\": [{\"colorbar\": {\"outlinewidth\": 0, \"ticks\": \"\"}, \"type\": \"contourcarpet\"}], \"heatmap\": [{\"colorbar\": {\"outlinewidth\": 0, \"ticks\": \"\"}, \"colorscale\": [[0.0, \"#0d0887\"], [0.1111111111111111, \"#46039f\"], [0.2222222222222222, \"#7201a8\"], [0.3333333333333333, \"#9c179e\"], [0.4444444444444444, \"#bd3786\"], [0.5555555555555556, \"#d8576b\"], [0.6666666666666666, \"#ed7953\"], [0.7777777777777778, \"#fb9f3a\"], [0.8888888888888888, \"#fdca26\"], [1.0, \"#f0f921\"]], \"type\": \"heatmap\"}], \"heatmapgl\": [{\"colorbar\": {\"outlinewidth\": 0, \"ticks\": \"\"}, \"colorscale\": [[0.0, \"#0d0887\"], [0.1111111111111111, \"#46039f\"], [0.2222222222222222, \"#7201a8\"], [0.3333333333333333, \"#9c179e\"], [0.4444444444444444, \"#bd3786\"], [0.5555555555555556, \"#d8576b\"], [0.6666666666666666, \"#ed7953\"], [0.7777777777777778, \"#fb9f3a\"], [0.8888888888888888, \"#fdca26\"], [1.0, \"#f0f921\"]], \"type\": \"heatmapgl\"}], \"histogram\": [{\"marker\": {\"colorbar\": {\"outlinewidth\": 0, \"ticks\": \"\"}}, \"type\": \"histogram\"}], \"histogram2d\": [{\"colorbar\": {\"outlinewidth\": 0, \"ticks\": \"\"}, \"colorscale\": [[0.0, \"#0d0887\"], [0.1111111111111111, \"#46039f\"], [0.2222222222222222, \"#7201a8\"], [0.3333333333333333, \"#9c179e\"], [0.4444444444444444, \"#bd3786\"], [0.5555555555555556, \"#d8576b\"], [0.6666666666666666, \"#ed7953\"], [0.7777777777777778, \"#fb9f3a\"], [0.8888888888888888, \"#fdca26\"], [1.0, \"#f0f921\"]], \"type\": \"histogram2d\"}], \"histogram2dcontour\": [{\"colorbar\": {\"outlinewidth\": 0, \"ticks\": \"\"}, \"colorscale\": [[0.0, \"#0d0887\"], [0.1111111111111111, \"#46039f\"], [0.2222222222222222, \"#7201a8\"], [0.3333333333333333, \"#9c179e\"], [0.4444444444444444, \"#bd3786\"], [0.5555555555555556, \"#d8576b\"], [0.6666666666666666, \"#ed7953\"], [0.7777777777777778, \"#fb9f3a\"], [0.8888888888888888, \"#fdca26\"], [1.0, \"#f0f921\"]], \"type\": \"histogram2dcontour\"}], \"mesh3d\": [{\"colorbar\": {\"outlinewidth\": 0, \"ticks\": \"\"}, \"type\": \"mesh3d\"}], \"parcoords\": [{\"line\": {\"colorbar\": {\"outlinewidth\": 0, \"ticks\": \"\"}}, \"type\": \"parcoords\"}], \"pie\": [{\"automargin\": true, \"type\": \"pie\"}], \"scatter\": [{\"marker\": {\"colorbar\": {\"outlinewidth\": 0, \"ticks\": \"\"}}, \"type\": \"scatter\"}], \"scatter3d\": [{\"line\": {\"colorbar\": {\"outlinewidth\": 0, \"ticks\": \"\"}}, \"marker\": {\"colorbar\": {\"outlinewidth\": 0, \"ticks\": \"\"}}, \"type\": \"scatter3d\"}], \"scattercarpet\": [{\"marker\": {\"colorbar\": {\"outlinewidth\": 0, \"ticks\": \"\"}}, \"type\": \"scattercarpet\"}], \"scattergeo\": [{\"marker\": {\"colorbar\": {\"outlinewidth\": 0, \"ticks\": \"\"}}, \"type\": \"scattergeo\"}], \"scattergl\": [{\"marker\": {\"colorbar\": {\"outlinewidth\": 0, \"ticks\": \"\"}}, \"type\": \"scattergl\"}], \"scattermapbox\": [{\"marker\": {\"colorbar\": {\"outlinewidth\": 0, \"ticks\": \"\"}}, \"type\": \"scattermapbox\"}], \"scatterpolar\": [{\"marker\": {\"colorbar\": {\"outlinewidth\": 0, \"ticks\": \"\"}}, \"type\": \"scatterpolar\"}], \"scatterpolargl\": [{\"marker\": {\"colorbar\": {\"outlinewidth\": 0, \"ticks\": \"\"}}, \"type\": \"scatterpolargl\"}], \"scatterternary\": [{\"marker\": {\"colorbar\": {\"outlinewidth\": 0, \"ticks\": \"\"}}, \"type\": \"scatterternary\"}], \"surface\": [{\"colorbar\": {\"outlinewidth\": 0, \"ticks\": \"\"}, \"colorscale\": [[0.0, \"#0d0887\"], [0.1111111111111111, \"#46039f\"], [0.2222222222222222, \"#7201a8\"], [0.3333333333333333, \"#9c179e\"], [0.4444444444444444, \"#bd3786\"], [0.5555555555555556, \"#d8576b\"], [0.6666666666666666, \"#ed7953\"], [0.7777777777777778, \"#fb9f3a\"], [0.8888888888888888, \"#fdca26\"], [1.0, \"#f0f921\"]], \"type\": \"surface\"}], \"table\": [{\"cells\": {\"fill\": {\"color\": \"#EBF0F8\"}, \"line\": {\"color\": \"white\"}}, \"header\": {\"fill\": {\"color\": \"#C8D4E3\"}, \"line\": {\"color\": \"white\"}}, \"type\": \"table\"}]}, \"layout\": {\"annotationdefaults\": {\"arrowcolor\": \"#2a3f5f\", \"arrowhead\": 0, \"arrowwidth\": 1}, \"coloraxis\": {\"colorbar\": {\"outlinewidth\": 0, \"ticks\": \"\"}}, \"colorscale\": {\"diverging\": [[0, \"#8e0152\"], [0.1, \"#c51b7d\"], [0.2, \"#de77ae\"], [0.3, \"#f1b6da\"], [0.4, \"#fde0ef\"], [0.5, \"#f7f7f7\"], [0.6, \"#e6f5d0\"], [0.7, \"#b8e186\"], [0.8, \"#7fbc41\"], [0.9, \"#4d9221\"], [1, \"#276419\"]], \"sequential\": [[0.0, \"#0d0887\"], [0.1111111111111111, \"#46039f\"], [0.2222222222222222, \"#7201a8\"], [0.3333333333333333, \"#9c179e\"], [0.4444444444444444, \"#bd3786\"], [0.5555555555555556, \"#d8576b\"], [0.6666666666666666, \"#ed7953\"], [0.7777777777777778, \"#fb9f3a\"], [0.8888888888888888, \"#fdca26\"], [1.0, \"#f0f921\"]], \"sequentialminus\": [[0.0, \"#0d0887\"], [0.1111111111111111, \"#46039f\"], [0.2222222222222222, \"#7201a8\"], [0.3333333333333333, \"#9c179e\"], [0.4444444444444444, \"#bd3786\"], [0.5555555555555556, \"#d8576b\"], [0.6666666666666666, \"#ed7953\"], [0.7777777777777778, \"#fb9f3a\"], [0.8888888888888888, \"#fdca26\"], [1.0, \"#f0f921\"]]}, \"colorway\": [\"#636efa\", \"#EF553B\", \"#00cc96\", \"#ab63fa\", \"#FFA15A\", \"#19d3f3\", \"#FF6692\", \"#B6E880\", \"#FF97FF\", \"#FECB52\"], \"font\": {\"color\": \"#2a3f5f\"}, \"geo\": {\"bgcolor\": \"white\", \"lakecolor\": \"white\", \"landcolor\": \"#E5ECF6\", \"showlakes\": true, \"showland\": true, \"subunitcolor\": \"white\"}, \"hoverlabel\": {\"align\": \"left\"}, \"hovermode\": \"closest\", \"mapbox\": {\"style\": \"light\"}, \"paper_bgcolor\": \"white\", \"plot_bgcolor\": \"#E5ECF6\", \"polar\": {\"angularaxis\": {\"gridcolor\": \"white\", \"linecolor\": \"white\", \"ticks\": \"\"}, \"bgcolor\": \"#E5ECF6\", \"radialaxis\": {\"gridcolor\": \"white\", \"linecolor\": \"white\", \"ticks\": \"\"}}, \"scene\": {\"xaxis\": {\"backgroundcolor\": \"#E5ECF6\", \"gridcolor\": \"white\", \"gridwidth\": 2, \"linecolor\": \"white\", \"showbackground\": true, \"ticks\": \"\", \"zerolinecolor\": \"white\"}, \"yaxis\": {\"backgroundcolor\": \"#E5ECF6\", \"gridcolor\": \"white\", \"gridwidth\": 2, \"linecolor\": \"white\", \"showbackground\": true, \"ticks\": \"\", \"zerolinecolor\": \"white\"}, \"zaxis\": {\"backgroundcolor\": \"#E5ECF6\", \"gridcolor\": \"white\", \"gridwidth\": 2, \"linecolor\": \"white\", \"showbackground\": true, \"ticks\": \"\", \"zerolinecolor\": \"white\"}}, \"shapedefaults\": {\"line\": {\"color\": \"#2a3f5f\"}}, \"ternary\": {\"aaxis\": {\"gridcolor\": \"white\", \"linecolor\": \"white\", \"ticks\": \"\"}, \"baxis\": {\"gridcolor\": \"white\", \"linecolor\": \"white\", \"ticks\": \"\"}, \"bgcolor\": \"#E5ECF6\", \"caxis\": {\"gridcolor\": \"white\", \"linecolor\": \"white\", \"ticks\": \"\"}}, \"title\": {\"x\": 0.05}, \"xaxis\": {\"automargin\": true, \"gridcolor\": \"white\", \"linecolor\": \"white\", \"ticks\": \"\", \"title\": {\"standoff\": 15}, \"zerolinecolor\": \"white\", \"zerolinewidth\": 2}, \"yaxis\": {\"automargin\": true, \"gridcolor\": \"white\", \"linecolor\": \"white\", \"ticks\": \"\", \"title\": {\"standoff\": 15}, \"zerolinecolor\": \"white\", \"zerolinewidth\": 2}}}, \"xaxis\": {\"zeroline\": false}, \"yaxis\": {\"zeroline\": false}},\n",
              "                        {\"responsive\": true}\n",
              "                    ).then(function(){\n",
              "                            \n",
              "var gd = document.getElementById('97c90833-c592-4fa6-a5c9-a33aba7eb75f');\n",
              "var x = new MutationObserver(function (mutations, observer) {{\n",
              "        var display = window.getComputedStyle(gd).display;\n",
              "        if (!display || display === 'none') {{\n",
              "            console.log([gd, 'removed!']);\n",
              "            Plotly.purge(gd);\n",
              "            observer.disconnect();\n",
              "        }}\n",
              "}});\n",
              "\n",
              "// Listen for the removal of the full notebook cells\n",
              "var notebookContainer = gd.closest('#notebook-container');\n",
              "if (notebookContainer) {{\n",
              "    x.observe(notebookContainer, {childList: true});\n",
              "}}\n",
              "\n",
              "// Listen for the clearing of the current output cell\n",
              "var outputEl = gd.closest('.output');\n",
              "if (outputEl) {{\n",
              "    x.observe(outputEl, {childList: true});\n",
              "}}\n",
              "\n",
              "                        })\n",
              "                };\n",
              "                \n",
              "            </script>\n",
              "        </div>\n",
              "</body>\n",
              "</html>"
            ]
          },
          "metadata": {
            "tags": []
          }
        }
      ]
    }
  ]
}