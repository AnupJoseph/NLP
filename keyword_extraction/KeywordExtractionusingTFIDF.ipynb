{
  "nbformat": 4,
  "nbformat_minor": 0,
  "metadata": {
    "colab": {
      "name": "KeywordExtractionusingTFIDF.ipynb",
      "provenance": [],
      "collapsed_sections": []
    },
    "kernelspec": {
      "name": "python3",
      "display_name": "Python 3"
    }
  },
  "cells": [
    {
      "cell_type": "code",
      "metadata": {
        "id": "oRyqExz00zKT",
        "colab_type": "code",
        "colab": {
          "base_uri": "https://localhost:8080/",
          "height": 85
        },
        "outputId": "5f3526df-774b-4319-a9eb-620263edaca2"
      },
      "source": [
        "!git clone https://github.com/mchon89/Udemy.git"
      ],
      "execution_count": null,
      "outputs": [
        {
          "output_type": "stream",
          "text": [
            "Cloning into 'Udemy'...\n",
            "remote: Enumerating objects: 33, done.\u001b[K\n",
            "remote: Total 33 (delta 0), reused 0 (delta 0), pack-reused 33\u001b[K\n",
            "Unpacking objects: 100% (33/33), done.\n"
          ],
          "name": "stdout"
        }
      ]
    },
    {
      "cell_type": "code",
      "metadata": {
        "id": "iWhq9tl22Fmq",
        "colab_type": "code",
        "colab": {
          "base_uri": "https://localhost:8080/",
          "height": 85
        },
        "outputId": "acd9f2b2-b05a-4139-e858-4d7314c180ea"
      },
      "source": [
        "!pip install html2text memory_profiler textdistance textdistance[extras]"
      ],
      "execution_count": null,
      "outputs": [
        {
          "output_type": "stream",
          "text": [
            "Requirement already satisfied: html2text in /usr/local/lib/python3.6/dist-packages (2020.1.16)\n",
            "Requirement already satisfied: memory_profiler in /usr/local/lib/python3.6/dist-packages (0.57.0)\n",
            "Requirement already satisfied: textdistance in /usr/local/lib/python3.6/dist-packages (4.2.0)\n",
            "Requirement already satisfied: psutil in /usr/local/lib/python3.6/dist-packages (from memory_profiler) (5.4.8)\n"
          ],
          "name": "stdout"
        }
      ]
    },
    {
      "cell_type": "code",
      "metadata": {
        "id": "X0k7lH_12Qdf",
        "colab_type": "code",
        "colab": {}
      },
      "source": [
        "from html2text import HTML2Text\n",
        "from sklearn.feature_extraction.text import CountVectorizer\n",
        "import pandas as pd\n",
        "import re\n",
        "from sklearn.feature_extraction.text import TfidfTransformer\n",
        "h = HTML2Text()"
      ],
      "execution_count": null,
      "outputs": []
    },
    {
      "cell_type": "code",
      "metadata": {
        "id": "ky7GTs8E1jkE",
        "colab_type": "code",
        "colab": {
          "base_uri": "https://localhost:8080/",
          "height": 838
        },
        "outputId": "9156a3cc-31a4-44e7-84ea-413be233c036"
      },
      "source": [
        "dataset = pd.read_csv('Udemy/udemy2.csv')\n",
        "dataset[10:20]"
      ],
      "execution_count": null,
      "outputs": [
        {
          "output_type": "execute_result",
          "data": {
            "text/html": [
              "<div>\n",
              "<style scoped>\n",
              "    .dataframe tbody tr th:only-of-type {\n",
              "        vertical-align: middle;\n",
              "    }\n",
              "\n",
              "    .dataframe tbody tr th {\n",
              "        vertical-align: top;\n",
              "    }\n",
              "\n",
              "    .dataframe thead th {\n",
              "        text-align: right;\n",
              "    }\n",
              "</style>\n",
              "<table border=\"1\" class=\"dataframe\">\n",
              "  <thead>\n",
              "    <tr style=\"text-align: right;\">\n",
              "      <th></th>\n",
              "      <th>id</th>\n",
              "      <th>title</th>\n",
              "      <th>url</th>\n",
              "      <th>is_paid</th>\n",
              "      <th>price</th>\n",
              "      <th>professor</th>\n",
              "      <th>description</th>\n",
              "      <th>num_subscribers</th>\n",
              "    </tr>\n",
              "  </thead>\n",
              "  <tbody>\n",
              "    <tr>\n",
              "      <th>10</th>\n",
              "      <td>1072494</td>\n",
              "      <td>Statistics explained completely</td>\n",
              "      <td>/statistics-course/</td>\n",
              "      <td>True</td>\n",
              "      <td>$20</td>\n",
              "      <td>Enthusia Educational Hub</td>\n",
              "      <td>&lt;p&gt;This Statistics course will cover the impor...</td>\n",
              "      <td>3196</td>\n",
              "    </tr>\n",
              "    <tr>\n",
              "      <th>11</th>\n",
              "      <td>1004980</td>\n",
              "      <td>Become a Calculus Master</td>\n",
              "      <td>/learn-calculus/</td>\n",
              "      <td>True</td>\n",
              "      <td>$20</td>\n",
              "      <td>Apoorva Suryadevara</td>\n",
              "      <td>&lt;p&gt;&lt;strong&gt;In Calculus you'll still be doing a...</td>\n",
              "      <td>2803</td>\n",
              "    </tr>\n",
              "    <tr>\n",
              "      <th>12</th>\n",
              "      <td>693138</td>\n",
              "      <td>Simply Jesus</td>\n",
              "      <td>/simply-jesus/</td>\n",
              "      <td>True</td>\n",
              "      <td>$80</td>\n",
              "      <td>N.T. Wright</td>\n",
              "      <td>&lt;p&gt;In this course &lt;em&gt;Simply Jesus&lt;/em&gt; studen...</td>\n",
              "      <td>2106</td>\n",
              "    </tr>\n",
              "    <tr>\n",
              "      <th>13</th>\n",
              "      <td>1195778</td>\n",
              "      <td>Xamarin Forms: Build Android Apps for Absolute...</td>\n",
              "      <td>/xamarin-forms-for-absolute-beginners/</td>\n",
              "      <td>True</td>\n",
              "      <td>$95</td>\n",
              "      <td>Sobhan N.</td>\n",
              "      <td>&lt;p&gt;___________________________________________...</td>\n",
              "      <td>1222</td>\n",
              "    </tr>\n",
              "    <tr>\n",
              "      <th>14</th>\n",
              "      <td>342322</td>\n",
              "      <td>Chinese Made Easy L2: Understand 79% of Chines...</td>\n",
              "      <td>/dc-level-2/</td>\n",
              "      <td>True</td>\n",
              "      <td>$20</td>\n",
              "      <td>Felix Lättman</td>\n",
              "      <td>&lt;p&gt;  \\t&lt;strong&gt;&lt;em&gt;LATEST: COURSE UPDATED IN A...</td>\n",
              "      <td>4519</td>\n",
              "    </tr>\n",
              "    <tr>\n",
              "      <th>15</th>\n",
              "      <td>830298</td>\n",
              "      <td>Scratch Game Programming for Young Adults</td>\n",
              "      <td>/scratch-game-programming/</td>\n",
              "      <td>True</td>\n",
              "      <td>$35</td>\n",
              "      <td>Al Sweigart</td>\n",
              "      <td>&lt;p&gt;Scratch is the best educational programming...</td>\n",
              "      <td>5028</td>\n",
              "    </tr>\n",
              "    <tr>\n",
              "      <th>16</th>\n",
              "      <td>466208</td>\n",
              "      <td>Paul and His Letter to the Galatians</td>\n",
              "      <td>/paul-and-his-letter-to-the-galatians/</td>\n",
              "      <td>True</td>\n",
              "      <td>$120</td>\n",
              "      <td>N.T. Wright</td>\n",
              "      <td>&lt;p style=\"\"&gt;'Being Transformed by the Renewing...</td>\n",
              "      <td>2556</td>\n",
              "    </tr>\n",
              "    <tr>\n",
              "      <th>17</th>\n",
              "      <td>785702</td>\n",
              "      <td>How to Make a Difference by Nicholas Kristof &amp;...</td>\n",
              "      <td>/how-to-make-a-difference-by-nicholas-kristof-...</td>\n",
              "      <td>True</td>\n",
              "      <td>$120</td>\n",
              "      <td>Nicholas Kristof</td>\n",
              "      <td>&lt;p&gt;This one-of-a-kind course by Nick Kristof a...</td>\n",
              "      <td>1677</td>\n",
              "    </tr>\n",
              "    <tr>\n",
              "      <th>18</th>\n",
              "      <td>128298</td>\n",
              "      <td>Become a Calculus 2 Master</td>\n",
              "      <td>/calculus-2/</td>\n",
              "      <td>True</td>\n",
              "      <td>$150</td>\n",
              "      <td>Krista King</td>\n",
              "      <td>&lt;p&gt;&lt;strong class=\"redactor-inline-converted\"&gt;H...</td>\n",
              "      <td>5249</td>\n",
              "    </tr>\n",
              "    <tr>\n",
              "      <th>19</th>\n",
              "      <td>858678</td>\n",
              "      <td>The Day the Revolution Began</td>\n",
              "      <td>/the-day-the-revolution-began/</td>\n",
              "      <td>True</td>\n",
              "      <td>$80</td>\n",
              "      <td>N.T. Wright</td>\n",
              "      <td>&lt;p&gt;The renowned scholar Anglican bishop and be...</td>\n",
              "      <td>1175</td>\n",
              "    </tr>\n",
              "  </tbody>\n",
              "</table>\n",
              "</div>"
            ],
            "text/plain": [
              "         id  ... num_subscribers\n",
              "10  1072494  ...            3196\n",
              "11  1004980  ...            2803\n",
              "12   693138  ...            2106\n",
              "13  1195778  ...            1222\n",
              "14   342322  ...            4519\n",
              "15   830298  ...            5028\n",
              "16   466208  ...            2556\n",
              "17   785702  ...            1677\n",
              "18   128298  ...            5249\n",
              "19   858678  ...            1175\n",
              "\n",
              "[10 rows x 8 columns]"
            ]
          },
          "metadata": {
            "tags": []
          },
          "execution_count": 4
        }
      ]
    },
    {
      "cell_type": "code",
      "metadata": {
        "id": "0UIXpzo012zH",
        "colab_type": "code",
        "colab": {}
      },
      "source": [
        "descriptions = dataset['description']"
      ],
      "execution_count": null,
      "outputs": []
    },
    {
      "cell_type": "code",
      "metadata": {
        "id": "a2O0gY2v1-ib",
        "colab_type": "code",
        "colab": {}
      },
      "source": [
        "X_train = []\n",
        "for line in descriptions:\n",
        "  line= h.handle(line)\n",
        "  re.sub(r'[^\\x00-\\x7f]',r'', line)\n",
        "  line = line.strip(' ')\n",
        "  if line:\n",
        "    X_train.append(line)"
      ],
      "execution_count": null,
      "outputs": []
    },
    {
      "cell_type": "code",
      "metadata": {
        "id": "ME0-I8OTBpkt",
        "colab_type": "code",
        "colab": {}
      },
      "source": [
        "stopwords_ = [\"s\",\"i\",\"me\",'my','myself','we','our','ours','a','the','your','ourselves','you',\"you're\",\"you've\",\"you'll\",\"you'd\",'your', \n",
        "'yours', 'yourself', 'yourselves', 'he', 'him', 'his', 'himself', \"she\",\"she's\", 'her', 'hers', 'herself', 'it', \"it's\",'its', 'itself', \n",
        "'they', 'them', 'their','theirs', 'themselves', 'what', 'which', 'who', 'whom', 'this', 'that', \"that'll\",'these','those','am','is','are',\n",
        "'was','were','be','been','being','have','has','had','having','do','does','did','doing','a','an','the','and','but','if','or','because','as',\n",
        "'until','while','of','at','by','for','with','about','against', 'between','into','through','during','before','after','above','below','to',\n",
        "'from','up','down','in','out','on','off','over','under','again','further','then','once','here','there','when','where','why','how','all',\n",
        "'any','both', 'each', 'few', 'more', 'most', 'other', 'some', 'such', 'no', 'nor', 'not', 'only', 'own', 'same', 'so', 'than', 'too', 'very', \n",
        "'s','t', 'can', 'will', 'just', 'don', \"don't\", 'should', \"should've\", 'now', 'd', 'll', 'm', 'o', 're', 've', 'y', 'ain', 'aren', \"aren't\", \n",
        "'couldn', \"couldn't\", 'didn', \"didn't\", 'doesn', \"doesn't\", 'hadn', \"hadn't\",'hasn',\"hasn't\",'haven',\"haven't\",'isn',\"isn't\",'ma','mightn',\n",
        "\"mightn't\",'mustn',\"mustn't\",'needn',\"needn't\",'shan',\"shan't\",'shouldn',\"shouldn't\",'wasn',\"wasn't\",'weren',\"weren't\",'won',\"won't\",'wouldn',\n",
        "\"wouldn't\",'best','different',\"won't\",\"couldn't\",\"mustn't\",\"didn't\"]\n",
        "\n",
        "custom_stop = [\"adv\", \"fundamentals\", \"course\", \"advance\", \"beginner\", \"beginners\",\"nbsp\", \"help\", \"would\", \"could\", \"courses\",\"also\",\"get\",\n",
        "\"give\",\"class\",\"much\",'copy0','copy1','nbsp','course','copy','best','different',\"learn\",'course','learning','learner']\n",
        "\n",
        "stopwords_= stopwords_ + custom_stop"
      ],
      "execution_count": null,
      "outputs": []
    },
    {
      "cell_type": "code",
      "metadata": {
        "id": "Lz252zdV6tCr",
        "colab_type": "code",
        "colab": {}
      },
      "source": [
        "def pre_process(text):\n",
        "    \n",
        "    # lowercase\n",
        "    text=text.lower()\n",
        "    \n",
        "    #remove tags\n",
        "    text=re.sub(\"<!--?.*?-->\",\"\",text)\n",
        "    \n",
        "    # remove special characters and digits\n",
        "    text=re.sub(\"(\\\\d|\\\\W)+\",\" \",text)\n",
        "    \n",
        "    return text"
      ],
      "execution_count": null,
      "outputs": []
    },
    {
      "cell_type": "code",
      "metadata": {
        "id": "pRvp6EEX9ZbP",
        "colab_type": "code",
        "colab": {}
      },
      "source": [
        "def sort_coo(coo_matrix):\n",
        "    tuples = zip(coo_matrix.col, coo_matrix.data)\n",
        "    return sorted(tuples, key=lambda x: (x[1], x[0]), reverse=True)\n",
        " \n",
        "def extract_topn_from_vector(feature_names, sorted_items, topn=10):\n",
        "    \"\"\"get the feature names and tf-idf score of top n items\"\"\"\n",
        "    \n",
        "    #use only topn items from vector\n",
        "    sorted_items = sorted_items[:topn]\n",
        " \n",
        "    score_vals = []\n",
        "    feature_vals = []\n",
        "    \n",
        "    # word index and corresponding tf-idf score\n",
        "    for idx, score in sorted_items:\n",
        "        \n",
        "        #keep track of feature name and its corresponding score\n",
        "        score_vals.append(round(score, 3))\n",
        "        feature_vals.append(feature_names[idx])\n",
        " \n",
        "    #create a tuples of feature,score\n",
        "    #results = zip(feature_vals,score_vals)\n",
        "    results= {}\n",
        "    for idx in range(len(feature_vals)):\n",
        "        results[feature_vals[idx]]=score_vals[idx]\n",
        "    \n",
        "    return results"
      ],
      "execution_count": null,
      "outputs": []
    },
    {
      "cell_type": "code",
      "metadata": {
        "id": "FvGApjo-64V2",
        "colab_type": "code",
        "colab": {}
      },
      "source": [
        "for index,line in enumerate(X_train):\n",
        "  X_train[index] = pre_process(line)"
      ],
      "execution_count": null,
      "outputs": []
    },
    {
      "cell_type": "code",
      "metadata": {
        "id": "l8JkDtiX8Rs3",
        "colab_type": "code",
        "colab": {}
      },
      "source": [
        "X_test = []\n",
        "with open('data.txt') as filename:\n",
        "  for line in filename:\n",
        "    line = pre_process(line)\n",
        "    X_test.append(line)"
      ],
      "execution_count": null,
      "outputs": []
    },
    {
      "cell_type": "code",
      "metadata": {
        "id": "HXBSN7sM7ka-",
        "colab_type": "code",
        "colab": {}
      },
      "source": [
        "cv=CountVectorizer(max_df=0.8,stop_words=stopwords_,ngram_range=(1,2),analyzer='word')\n",
        "word_count_vector=cv.fit_transform(X_test)"
      ],
      "execution_count": null,
      "outputs": []
    },
    {
      "cell_type": "code",
      "metadata": {
        "id": "7oS21Ghg7833",
        "colab_type": "code",
        "colab": {}
      },
      "source": [
        "tfidf_transformer=TfidfTransformer(smooth_idf=True,use_idf=True)\n",
        "tfidf_transformer.fit(word_count_vector)\n",
        "feature_names=cv.get_feature_names()"
      ],
      "execution_count": null,
      "outputs": []
    },
    {
      "cell_type": "code",
      "metadata": {
        "id": "JORA3IeW99af",
        "colab_type": "code",
        "colab": {}
      },
      "source": [
        "def test_function(doc,feature_names):\n",
        "\n",
        "  #generate tf-idf for the given document\n",
        "  tf_idf_vector=tfidf_transformer.transform(cv.transform([doc]))\n",
        "  #sort the tf-idf vectors by descending order of scores\n",
        "  sorted_items=sort_coo(tf_idf_vector.tocoo())\n",
        "  #extract only the top n; n here is 10\n",
        "  keywords=extract_topn_from_vector(feature_names,sorted_items,10)\n",
        "  \n",
        "  # # now print the results\n",
        "  # print(\"\\n=====Doc=====\")\n",
        "  # print(doc)\n",
        "  # print(\"\\n===Keywords===\")\n",
        "  # for k in keywords:\n",
        "  #   print(k,keywords[k])\n",
        "  return keywords"
      ],
      "execution_count": null,
      "outputs": []
    },
    {
      "cell_type": "code",
      "metadata": {
        "id": "WzyUR6le00XQ",
        "colab_type": "code",
        "colab": {}
      },
      "source": [
        "!mv datasets_93858_218274_linkedin\\ skill keyword.txt"
      ],
      "execution_count": null,
      "outputs": []
    },
    {
      "cell_type": "code",
      "metadata": {
        "id": "kE2ET7hU0-H2",
        "colab_type": "code",
        "colab": {}
      },
      "source": [
        "mapping_dictionary = {}\n",
        "with open('keyword.txt') as file_object:\n",
        "  for line in file_object:\n",
        "    line = line.strip('\\n')\n",
        "    line = line.lower()\n",
        "    mapping_dictionary[line[0]] = mapping_dictionary.get(line[0],[])\n",
        "    mapping_dictionary[line[0]].append(line)"
      ],
      "execution_count": null,
      "outputs": []
    },
    {
      "cell_type": "code",
      "metadata": {
        "id": "bLNUjESi1kPT",
        "colab_type": "code",
        "colab": {}
      },
      "source": [
        "mapping_dictionary"
      ],
      "execution_count": null,
      "outputs": []
    },
    {
      "cell_type": "code",
      "metadata": {
        "id": "S6WLnbQT3Bph",
        "colab_type": "code",
        "colab": {}
      },
      "source": [
        "import textdistance"
      ],
      "execution_count": null,
      "outputs": []
    },
    {
      "cell_type": "code",
      "metadata": {
        "id": "oo46o46t2upc",
        "colab_type": "code",
        "colab": {}
      },
      "source": [
        "def compare_func(keyword,mapping_dictionary = mapping_dictionary):\n",
        "  # print(keyword.items())\n",
        "  if keyword:\n",
        "    start_char = keyword[0]\n",
        "  compare = mapping_dictionary.get(start_char,[])\n",
        "  # print(compare)\n",
        "  if compare:\n",
        "    maximum = 0\n",
        "    max_word = None\n",
        "    for word in compare:\n",
        "      curr = textdistance.jaro_winkler(word,keyword)\n",
        "      maximum = max(maximum,curr)\n",
        "      max_word = word if curr == maximum else max_word\n",
        "    print(\"Ori: {} \\t\\t Mapped: {} \".format(keyword, max_word,maximum))"
      ],
      "execution_count": null,
      "outputs": []
    },
    {
      "cell_type": "code",
      "metadata": {
        "id": "iQriwzJE1xOw",
        "colab_type": "code",
        "colab": {
          "base_uri": "https://localhost:8080/",
          "height": 1000
        },
        "outputId": "f49c5751-05fb-4ad0-adac-a0d781104d20"
      },
      "source": [
        "for documents in X_test[10:25]:\n",
        "  keywords = test_function(documents,feature_names)\n",
        "  for lines in keywords:\n",
        "    compare_func(lines)\n",
        "  print('\\n')\n"
      ],
      "execution_count": null,
      "outputs": [
        {
          "output_type": "stream",
          "text": [
            "Ori: html \t\t Mapped: html \n",
            "Ori: tags \t\t Mapped: tags \n",
            "Ori: elements \t\t Mapped: elements \n",
            "Ori: website html \t\t Mapped: website translation \n",
            "Ori: html create \t\t Mapped: html5 boilerplate \n",
            "Ori: content \t\t Mapped: contentdm \n",
            "Ori: html tags \t\t Mapped: html \n",
            "Ori: page html \t\t Mapped: page layout \n",
            "Ori: markup language \t\t Mapped: markup languages \n",
            "Ori: markup \t\t Mapped: market updates \n",
            "\n",
            "\n",
            "Ori: java \t\t Mapped: java \n",
            "Ori: advanced java \t\t Mapped: advanced \n",
            "Ori: advanced \t\t Mapped: advanced \n",
            "Ori: applications \t\t Mapped: application \n",
            "Ori: concepts \t\t Mapped: concerts \n",
            "Ori: using core \t\t Mapped: unicode \n",
            "Ori: us already \t\t Mapped: user analysis \n",
            "Ori: tutorial giving \t\t Mapped: tutorials \n",
            "Ori: thus essential \t\t Mapped: test suites \n",
            "Ori: thus \t\t Mapped: tubs \n",
            "\n",
            "\n",
            "Ori: hadoop \t\t Mapped: hadoop \n",
            "Ori: data \t\t Mapped: datatel \n",
            "Ori: framework \t\t Mapped: framework \n",
            "Ori: www knowledgehut \t\t Mapped: www \n",
            "Ori: pros cons \t\t Mapped: procmon \n",
            "Ori: nodes \t\t Mapped: node.js \n",
            "Ori: knowledgehut com \t\t Mapped: knowledge acquisition \n",
            "Ori: knowledgehut \t\t Mapped: knowledgelake \n",
            "Ori: hadoop hadoop \t\t Mapped: hadoop \n",
            "Ori: cons hadoop \t\t Mapped: condos \n",
            "\n",
            "\n",
            "Ori: quality \t\t Mapped: qualys \n",
            "Ori: safety \t\t Mapped: safety case \n",
            "Ori: healthcare \t\t Mapped: healthcare \n",
            "Ori: patient safety \t\t Mapped: patient safety \n",
            "Ori: patient \t\t Mapped: patient flow \n",
            "Ori: safety quality \t\t Mapped: safety culture \n",
            "Ori: health \t\t Mapped: health \n",
            "Ori: quality improvement \t\t Mapped: quality improvement \n",
            "Ori: research \t\t Mapped: research \n",
            "Ori: improvement \t\t Mapped: impromptu \n",
            "\n",
            "\n",
            "Ori: statistical \t\t Mapped: statistica \n",
            "Ori: data analysis \t\t Mapped: data analysis \n",
            "Ori: topics statistical \t\t Mapped: topic maps \n",
            "Ori: statistical data \t\t Mapped: statistical arbitrage \n",
            "Ori: programming \t\t Mapped: plc programming \n",
            "Ori: analysis \t\t Mapped: analytics \n",
            "Ori: data \t\t Mapped: datatel \n",
            "Ori: topics \t\t Mapped: tops \n",
            "Ori: code \t\t Mapped: codes \n",
            "Ori: language \t\t Mapped: languages \n",
            "\n",
            "\n",
            "Ori: programming language \t\t Mapped: programming languages \n",
            "Ori: language \t\t Mapped: languages \n",
            "Ori: stroustrup bell \t\t Mapped: strut \n",
            "Ori: predecessor one \t\t Mapped: prestressed concrete \n",
            "Ori: predecessor \t\t Mapped: pressure \n",
            "Ori: oriented features \t\t Mapped: orientdb \n",
            "Ori: language graphical \t\t Mapped: language teaching \n",
            "Ori: labs adds \t\t Mapped: laser diodes \n",
            "Ori: graphical applications \t\t Mapped: graphic facilitation \n",
            "Ori: features predecessor \t\t Mapped: features \n",
            "\n",
            "\n",
            "Ori: machine \t\t Mapped: maschine \n",
            "Ori: ai \t\t Mapped: ais \n",
            "Ori: workshop trending \t\t Mapped: work hardening \n",
            "Ori: use understand \t\t Mapped: use tax \n",
            "Ori: understand ai \t\t Mapped: undersea warfare \n",
            "Ori: trending tech \t\t Mapped: trendwatching \n",
            "Ori: trending \t\t Mapped: trendwatching \n",
            "Ori: tech machine \t\t Mapped: technical files \n",
            "Ori: persue career \t\t Mapped: persuader \n",
            "Ori: persue \t\t Mapped: persuader \n",
            "\n",
            "\n",
            "Ori: python \t\t Mapped: python \n",
            "Ori: programs \t\t Mapped: programmes \n",
            "Ori: third party \t\t Mapped: third party claims \n",
            "Ori: python third \t\t Mapped: python \n",
            "Ori: python quickly \t\t Mapped: python \n",
            "Ori: python programs \t\t Mapped: python \n",
            "Ori: programs python \t\t Mapped: program deployment \n",
            "Ori: party libraries \t\t Mapped: part qualified \n",
            "Ori: party \t\t Mapped: pastry \n",
            "Ori: build real \t\t Mapped: build forge \n",
            "\n",
            "\n",
            "Ori: aws \t\t Mapped: aws \n",
            "Ori: aws certified \t\t Mapped: ase certified \n",
            "Ori: certified \t\t Mapped: certified lean \n",
            "Ori: developer associate \t\t Mapped: developer relations \n",
            "Ori: certified developer \t\t Mapped: certified lean leader \n",
            "Ori: aws certification \t\t Mapped: aws cwi \n",
            "Ori: associate \t\t Mapped: association rules \n",
            "Ori: certification \t\t Mapped: certification testing \n",
            "Ori: want aws \t\t Mapped: water law \n",
            "Ori: cda \t\t Mapped: cdna \n",
            "\n",
            "\n",
            "Ori: martial \t\t Mapped: martial arts \n",
            "Ori: sequence \t\t Mapped: sequencing \n",
            "Ori: problem \t\t Mapped: probe \n",
            "Ori: step \t\t Mapped: step \n",
            "Ori: real \t\t Mapped: realism \n",
            "Ori: take \t\t Mapped: tanker \n",
            "Ori: wrestling brazilian \t\t Mapped: wrestling \n",
            "Ori: well exact \t\t Mapped: well control \n",
            "Ori: using sound \t\t Mapped: ug \n",
            "Ori: use take \t\t Mapped: use tax \n",
            "\n",
            "\n",
            "Ori: algorithms \t\t Mapped: algorithms \n",
            "Ori: algorithmic \t\t Mapped: allegorithmic \n",
            "Ori: choice \t\t Mapped: chronicles \n",
            "Ori: programming \t\t Mapped: plc programming \n",
            "Ori: networks \t\t Mapped: network cards \n",
            "Ori: shortest \t\t Mapped: shoes \n",
            "Ori: multiple choice \t\t Mapped: multi-line phone \n",
            "Ori: choice questions \t\t Mapped: choice of entity \n",
            "Ori: assembly \t\t Mapped: assembly \n",
            "Ori: multiple \t\t Mapped: multiples \n",
            "\n",
            "\n",
            "Ori: planetary \t\t Mapped: planet \n",
            "Ori: astrobiology \t\t Mapped: astrobiology \n",
            "Ori: life \t\t Mapped: liffe \n",
            "Ori: well planetary \t\t Mapped: wellplan \n",
            "Ori: universe search \t\t Mapped: universities \n",
            "Ori: understanding life \t\t Mapped: underbalanced drilling \n",
            "Ori: tech astrobiology \t\t Mapped: technology risk \n",
            "Ori: system stellar \t\t Mapped: system sales \n",
            "Ori: support well \t\t Mapped: support workers \n",
            "Ori: study life \t\t Mapped: study skills \n",
            "\n",
            "\n",
            "Ori: statistics \t\t Mapped: statistics \n",
            "Ori: statistical \t\t Mapped: statistica \n",
            "Ori: studied solve \t\t Mapped: studio \n",
            "Ori: studied \t\t Mapped: studio \n",
            "Ori: statistics scientific \t\t Mapped: statistics \n",
            "Ori: statistics branch \t\t Mapped: statistics \n",
            "Ori: statistical population \t\t Mapped: statistical computing \n",
            "Ori: statistical model \t\t Mapped: statistical modeling \n",
            "Ori: statistical math \t\t Mapped: statistica \n",
            "Ori: solve queries \t\t Mapped: solver \n",
            "\n",
            "\n",
            "Ori: larvel \t\t Mapped: laravel \n",
            "\n",
            "\n",
            "Ori: photography \t\t Mapped: photography \n",
            "Ori: take amazing \t\t Mapped: teaming \n",
            "Ori: sell \t\t Mapped: sellers \n",
            "Ori: images \t\t Mapped: imagecast \n",
            "Ori: even \t\t Mapped: events \n",
            "Ori: version \t\t Mapped: versioning \n",
            "Ori: amazing \t\t Mapped: amazon \n",
            "Ori: teach \t\t Mapped: teacch \n",
            "Ori: take \t\t Mapped: tanker \n",
            "\n",
            "\n"
          ],
          "name": "stdout"
        }
      ]
    }
  ]
}