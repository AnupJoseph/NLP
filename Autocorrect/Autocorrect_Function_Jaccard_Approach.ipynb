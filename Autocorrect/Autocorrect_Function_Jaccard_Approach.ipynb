{
  "nbformat": 4,
  "nbformat_minor": 0,
  "metadata": {
    "colab": {
      "name": "Autocorrect Function Jaccard Approach.ipynb",
      "provenance": []
    },
    "kernelspec": {
      "name": "python3",
      "display_name": "Python 3"
    }
  },
  "cells": [
    {
      "cell_type": "code",
      "metadata": {
        "id": "d_UXTaUqNAZs",
        "colab_type": "code",
        "colab": {
          "base_uri": "https://localhost:8080/",
          "height": 51
        },
        "outputId": "c9e8a348-bbc7-4ea3-c7b9-12e62cc9cd78"
      },
      "source": [
        "import nltk\n",
        "from nltk.corpus import words\n",
        "from nltk.metrics.distance import edit_distance,jaccard_distance\n",
        "\n",
        "from nltk.util import ngrams\n",
        "nltk.download('words')\n",
        "import pandas as pd"
      ],
      "execution_count": 2,
      "outputs": [
        {
          "output_type": "stream",
          "text": [
            "[nltk_data] Downloading package words to /root/nltk_data...\n",
            "[nltk_data]   Package words is already up-to-date!\n"
          ],
          "name": "stdout"
        }
      ]
    },
    {
      "cell_type": "code",
      "metadata": {
        "id": "fT7cY9sDNxy_",
        "colab_type": "code",
        "colab": {
          "base_uri": "https://localhost:8080/",
          "height": 221
        },
        "outputId": "406aa943-012b-4b57-ca28-8bac64c3eb34"
      },
      "source": [
        "correct_spellings = words.words()\n",
        "spellings_series = pd.Series(correct_spellings)\n",
        "spellings_series"
      ],
      "execution_count": 4,
      "outputs": [
        {
          "output_type": "execute_result",
          "data": {
            "text/plain": [
              "0                 A\n",
              "1                 a\n",
              "2                aa\n",
              "3               aal\n",
              "4             aalii\n",
              "            ...    \n",
              "236731       yellow\n",
              "236732          yes\n",
              "236733    yesterday\n",
              "236734          you\n",
              "236735        young\n",
              "Length: 236736, dtype: object"
            ]
          },
          "metadata": {
            "tags": []
          },
          "execution_count": 4
        }
      ]
    },
    {
      "cell_type": "code",
      "metadata": {
        "id": "5glvoULMOERU",
        "colab_type": "code",
        "colab": {}
      },
      "source": [
        "def jaccard(entries = None, gram_number = 1):\n",
        "\n",
        "  outcomes = []\n",
        "  for entry in entries:\n",
        "    spellings = spellings_series[spellings_series.str.startswith(entry[0])]\n",
        "    distances = ((jaccard_distance(set(ngrams(entry, gram_number)),set(ngrams(word, gram_number))), word) for word in spellings)\n",
        "    closest = min(distances)\n",
        "    outcomes.append(closest[1])\n",
        "  return outcomes"
      ],
      "execution_count": 11,
      "outputs": []
    },
    {
      "cell_type": "code",
      "metadata": {
        "id": "MWxfQzNEQxrg",
        "colab_type": "code",
        "colab": {
          "base_uri": "https://localhost:8080/",
          "height": 68
        },
        "outputId": "c168a4c7-ae51-46eb-b170-fb155e0c1c6d"
      },
      "source": [
        "def JDreco(entries=['cormulent', 'incendenece', 'validrate']):\n",
        "    \"\"\"finds the closest word based on jaccard distance\"\"\"\n",
        "    return jaccard(entries, 3)\n",
        "print(JDreco())"
      ],
      "execution_count": 12,
      "outputs": [
        {
          "output_type": "stream",
          "text": [
            "/usr/local/lib/python3.6/dist-packages/ipykernel_launcher.py:6: DeprecationWarning: generator 'ngrams' raised StopIteration\n",
            "  \n"
          ],
          "name": "stderr"
        },
        {
          "output_type": "stream",
          "text": [
            "['corpulent', 'indecence', 'validate']\n"
          ],
          "name": "stdout"
        }
      ]
    }
  ]
}